{
 "cells": [
  {
   "cell_type": "code",
   "execution_count": null,
   "metadata": {},
   "outputs": [],
   "source": [
    "class Cours():\n",
    "    def __init__(self, name = \"\", credit = 0, test = []):\n",
    "        self.name = name\n",
    "        self.credit = credit\n",
    "        self.test = test\n",
    "    \n",
    "    def global_score(self):\n",
    "        total = []\n",
    "        for s,p in self.test:\n",
    "            total.append((int(p)/100)*int(s))\n",
    "        return sum(total)\n",
    "    \n",
    "    def letter_score(self):\n",
    "        return dict_letter[int(self.global_score())]\n",
    "    \n",
    "    def ponderation_left(self):\n",
    "        ponderation = []\n",
    "        for s,p in self.test:\n",
    "            ponderation.append(p)\n",
    "        return (100-sum(ponderation))\n",
    "    \n",
    "    def expected_score(self):\n",
    "        p_left = self.ponderation_left()\n",
    "        for i in range(0,101):\n",
    "            print('Expected next score : {} \\tNew score updated : {} ---> {}'.format(i,(i/100*p_left+self.global_score()),dict_letter[int(i/100*p_left+self.global_score())]))\n",
    "        return(\"\\nThere you go, I wish you good luck for what's comming next!!\\n\\n\")\n",
    "\n",
    "\n",
    "    def __str__(self):\n",
    "        return f'\\n\\nCourse : {self.name} \\t Credits : {self.credit}\\nActual score : {self.global_score()} ---> {self.letter_score()}\\n'\n"
   ]
  },
  {
   "cell_type": "code",
   "execution_count": null,
   "metadata": {},
   "outputs": [],
   "source": [
    "class Student():\n",
    "    def __init__(self, courses = []):\n",
    "        self.courses = courses\n",
    "    \n",
    "    def calculate_GPA(self):\n",
    "        nb_credits = []\n",
    "        score = []\n",
    "        for i in self.courses:\n",
    "            score.append(i.global_score())\n",
    "            nb_credits.append(i.credit)"
   ]
  },
  {
   "cell_type": "code",
   "execution_count": null,
   "metadata": {},
   "outputs": [],
   "source": [
    "class RangeDict(dict):\n",
    "    def __getitem__(self, item):\n",
    "        if type(item) != range: # or xrange in Python 2\n",
    "            for key in self:\n",
    "                if item in key:\n",
    "                    return self[key]\n",
    "        else:\n",
    "            return super().__getitem__(item)\n",
    "\n",
    "\n",
    "dict_score = RangeDict({'A+':'4.3','A':'4.0','A-':'3.7','B+':'3.3','B':'3.0','B-':'2.7','C+':'2.3','C':'2.0','C-':'1.7'\n",
    ",'D+':'1.3','D':'1.0','E':'0.5','F':'0.0'})\n",
    "dict_letter = RangeDict({range(90,101):'A+',range(85,90):'A',range(80,85):'A-',range(77,80):'B+',range(73,77):'B'\n",
    ",range(70,73):'B-',range(65,70):'C+',range(60,65):'C',range(57,60):'C-',range(54,57):'D+',range(50,54):'D'\n",
    ",range(35,50):'E',range(0,35):'F'})"
   ]
  },
  {
   "cell_type": "code",
   "execution_count": null,
   "metadata": {},
   "outputs": [],
   "source": [
    "while(True) :\n",
    "    welcome = \"\"\"\n",
    "    Welcome to the score calculator!!!\\n\n",
    "    Using this tool, you will be able to calculate your present course and receive estimation according to your scores\\n\n",
    "    You will need your exams scores and ponderation of each of them\\n\n",
    "    Let's get started!\\n\n",
    "    \"\"\"\n",
    "    print(welcome)\n",
    "    student = Student()\n",
    "    entering_courses = True\n",
    "    index = 0\n",
    "    while(entering_courses):\n",
    "        \n",
    "        try: \n",
    "            name_course, credits_course = input(\"Enter your course name and the number of credits : \\n\").split()\n",
    "            name_course = Cours(name_course, credits_course)\n",
    "        except ValueError:\n",
    "            print(\"Error : Please enter 2 arguments : name of the course and credits (exemple : Mathematic 3)\\n\")\n",
    "            continue\n",
    "        entering_tests = True\n",
    "        while(entering_tests):\n",
    "            try:\n",
    "                s,p = input(\"Enter your exam result and the ponderation : \").split()\n",
    "                test = (int(s),int(p))\n",
    "                name_course.test.append(test)\n",
    "            except ValueError:\n",
    "                print(\"Error : Please enter 2 arguments : result(%) and ponderation(%) (exemple : 80 35)\\n\")\n",
    "                continue\n",
    "            next = input(\"Would you like to enter another score? (Y/N) : \")\n",
    "            if('n' in next.lower()):\n",
    "                entering_tests = False\n",
    "            elif('y' in next.lower()):\n",
    "                continue\n",
    "        student.courses.append(name_course)\n",
    "        next = input(\"Would you like to enter another course (* helps to calculate GPA)? (Y/N) : \")\n",
    "        if('n' in next.lower()):\n",
    "            entering_courses = False\n",
    "        elif('y' in next.lower()):\n",
    "            index += 1\n",
    "            continue\n",
    "    want_information = True\n",
    "    while(want_information):\n",
    "        extract = input(\"What would you like to know? (score/GPA) : \")\n",
    "        if(extract == 'score'):\n",
    "            course_name = input('Enter the name of the course : ')\n",
    "            for i in student.courses:\n",
    "                if i.name == course_name:\n",
    "                    index = student.courses.index(i)\n",
    "                    print(student.courses[index])\n",
    "                    print(student.courses[index].expected_score())\n",
    "                else :\n",
    "                    print(\"\\nError : There is no such courses!!\\n\")\n",
    "                    break\n",
    "            next = input(\"Would you like to check for another course? (Y/N) : \")\n",
    "            if('n' in next.lower()):\n",
    "                want_information = False\n",
    "            elif('y' in next.lower()):\n",
    "                continue\n",
    "        want_information = False\n",
    "    break\n",
    "    \n"
   ]
  },
  {
   "cell_type": "code",
   "execution_count": null,
   "metadata": {},
   "outputs": [],
   "source": [
    "student.courses[1].test\n"
   ]
  },
  {
   "cell_type": "code",
   "execution_count": null,
   "metadata": {},
   "outputs": [],
   "source": [
    "student.courses"
   ]
  },
  {
   "cell_type": "code",
   "execution_count": null,
   "metadata": {},
   "outputs": [],
   "source": []
  }
 ],
 "metadata": {
  "kernelspec": {
   "display_name": "Python 3",
   "language": "python",
   "name": "python3"
  },
  "language_info": {
   "codemirror_mode": {
    "name": "ipython",
    "version": 3
   },
   "file_extension": ".py",
   "mimetype": "text/x-python",
   "name": "python",
   "nbconvert_exporter": "python",
   "pygments_lexer": "ipython3",
   "version": "3.6.5"
  }
 },
 "nbformat": 4,
 "nbformat_minor": 2
}
